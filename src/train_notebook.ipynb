{
 "cells": [
  {
   "cell_type": "code",
   "execution_count": 1,
   "id": "2a521e69",
   "metadata": {
    "cellId": "fzlvf5ye9da9z13oxslj1q"
   },
   "outputs": [],
   "source": [
    "import os\n",
    "import sys"
   ]
  },
  {
   "cell_type": "code",
   "execution_count": 2,
   "id": "e6982a2f",
   "metadata": {
    "cellId": "iazcw93l8asmydm59j51d"
   },
   "outputs": [],
   "source": [
    "cwd = os.getcwd()\n",
    "src_path = '/'.join(cwd.split('/')[:-1])\n",
    "sys.path.append(src_path)"
   ]
  },
  {
   "cell_type": "code",
   "execution_count": 3,
   "id": "e57d1f61",
   "metadata": {
    "cellId": "hy9jqfm9s6wrskmzigl38g"
   },
   "outputs": [],
   "source": [
    "from src.train import train"
   ]
  },
  {
   "cell_type": "code",
   "execution_count": 4,
   "id": "e0c7d65c",
   "metadata": {
    "cellId": "wrqapojsr68ud5d4c1bws"
   },
   "outputs": [],
   "source": [
    "import warnings\n",
    "\n",
    "warnings.filterwarnings(\"ignore\")"
   ]
  },
  {
   "cell_type": "code",
   "execution_count": 5,
   "id": "83264064",
   "metadata": {
    "cellId": "6nm1ufbbfz7hfif48q984g"
   },
   "outputs": [],
   "source": [
    "g_losses_epoch, d_losses_epoch = train(16, num_epochs=70)"
   ]
  }
 ],
 "metadata": {
  "kernelspec": {
   "display_name": "Python 3 (ipykernel)",
   "language": "python",
   "name": "python3"
  },
  "language_info": {
   "codemirror_mode": {
    "name": "ipython",
    "version": 3
   },
   "file_extension": ".py",
   "mimetype": "text/x-python",
   "name": "python",
   "nbconvert_exporter": "python",
   "pygments_lexer": "ipython3",
   "version": "3.7.9"
  },
  "notebookId": "29598303-67f3-493d-938b-998a8be88e1c",
  "notebookPath": "src/train_notebook.ipynb"
 },
 "nbformat": 4,
 "nbformat_minor": 5
}
